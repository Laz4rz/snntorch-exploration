{
 "cells": [
  {
   "cell_type": "code",
   "execution_count": 1,
   "metadata": {},
   "outputs": [
    {
     "name": "stderr",
     "output_type": "stream",
     "text": [
      "/home/mikolaj/anaconda3/envs/lic/lib/python3.10/site-packages/tqdm/auto.py:22: TqdmWarning: IProgress not found. Please update jupyter and ipywidgets. See https://ipywidgets.readthedocs.io/en/stable/user_install.html\n",
      "  from .autonotebook import tqdm as notebook_tqdm\n"
     ]
    },
    {
     "name": "stdout",
     "output_type": "stream",
     "text": [
      "Using cuda device\n"
     ]
    }
   ],
   "source": [
    "import torch\n",
    "import torch.nn as nn\n",
    "from torch.utils.data import DataLoader\n",
    "from torch import Tensor\n",
    "\n",
    "import pandas as pd\n",
    "import numpy as np\n",
    "import matplotlib.pyplot as plt\n",
    "\n",
    "import snntorch as snn\n",
    "\n",
    "device = \"cuda\" if torch.cuda.is_available() else \"cpu\"\n",
    "print(f\"Using {device} device\")"
   ]
  },
  {
   "cell_type": "code",
   "execution_count": 2,
   "metadata": {},
   "outputs": [],
   "source": [
    "np.random.seed(0)\n",
    "\n",
    "def and_generator(size: int):\n",
    "  x = Tensor(np.random.choice([0, 1], (size, 2)))\n",
    "  y = Tensor([1 if i[0] and i[1] else 0 for i in x]).reshape(size, 1)\n",
    "\n",
    "  return list(zip(x, y))"
   ]
  },
  {
   "cell_type": "code",
   "execution_count": 3,
   "metadata": {},
   "outputs": [
    {
     "name": "stdout",
     "output_type": "stream",
     "text": [
      "zipped data = (tensor([1., 0.]), tensor([0.]))\n"
     ]
    },
    {
     "name": "stderr",
     "output_type": "stream",
     "text": [
      "/home/mikolaj/anaconda3/envs/lic/lib/python3.10/site-packages/numpy/lib/arraysetops.py:272: FutureWarning: The input object of type 'Tensor' is an array-like implementing one of the corresponding protocols (`__array__`, `__array_interface__` or `__array_struct__`); but not a sequence (or 0-D). In the future, this object will be coerced as if it was first converted using `np.array(obj)`. To retain the old behaviour, you have to either modify the type 'Tensor', or assign to an empty array created with `np.empty(correct_shape, dtype=object)`.\n",
      "  ar = np.asanyarray(ar)\n",
      "/home/mikolaj/anaconda3/envs/lic/lib/python3.10/site-packages/numpy/lib/arraysetops.py:272: VisibleDeprecationWarning: Creating an ndarray from ragged nested sequences (which is a list-or-tuple of lists-or-tuples-or ndarrays with different lengths or shapes) is deprecated. If you meant to do this, you must specify 'dtype=object' when creating the ndarray.\n",
      "  ar = np.asanyarray(ar)\n",
      "/home/mikolaj/anaconda3/envs/lic/lib/python3.10/site-packages/numpy/core/fromnumeric.py:43: FutureWarning: The input object of type 'Tensor' is an array-like implementing one of the corresponding protocols (`__array__`, `__array_interface__` or `__array_struct__`); but not a sequence (or 0-D). In the future, this object will be coerced as if it was first converted using `np.array(obj)`. To retain the old behaviour, you have to either modify the type 'Tensor', or assign to an empty array created with `np.empty(correct_shape, dtype=object)`.\n",
      "  result = getattr(asarray(obj), method)(*args, **kwds)\n",
      "/home/mikolaj/anaconda3/envs/lic/lib/python3.10/site-packages/numpy/core/fromnumeric.py:43: VisibleDeprecationWarning: Creating an ndarray from ragged nested sequences (which is a list-or-tuple of lists-or-tuples-or ndarrays with different lengths or shapes) is deprecated. If you meant to do this, you must specify 'dtype=object' when creating the ndarray.\n",
      "  result = getattr(asarray(obj), method)(*args, **kwds)\n"
     ]
    },
    {
     "data": {
      "image/png": "[encoded data removed]",
      "text/plain": [
       "<Figure size 432x360 with 1 Axes>"
      ]
     },
     "metadata": {
      "needs_background": "light"
     },
     "output_type": "display_data"
    }
   ],
   "source": [
    "train_data = and_generator(size=700)\n",
    "train_loader = DataLoader(train_data, 32)\n",
    "test_loader = DataLoader(and_generator(size=300), 32)\n",
    "\n",
    "i = 5\n",
    "print(\"zipped data =\", train_data[i])\n",
    "\n",
    "y = [i[1] for i in train_data]\n",
    "plt.figure(figsize=(6, 5))\n",
    "plt.bar(np.unique(y, return_counts=True)[0], np.unique(y, return_counts=True)[1])\n",
    "plt.xticks([0, 1])\n",
    "plt.title(\"Class distribution in training data\")\n",
    "plt.show()"
   ]
  },
  {
   "cell_type": "code",
   "execution_count": 8,
   "metadata": {},
   "outputs": [
    {
     "name": "stdout",
     "output_type": "stream",
     "text": [
      "Using cuda device\n"
     ]
    }
   ],
   "source": [
    "from snntorch import surrogate\n",
    "\n",
    "beta = 0.9\n",
    "spike_grad = surrogate.fast_sigmoid()\n",
    "\n",
    "# class SNNNetwork(nn.Module):\n",
    "#     def __init__(self):\n",
    "#         super().__init__()\n",
    "#         self.one_way = nn.Sequential(\n",
    "#             nn.Linear(2, 2),\n",
    "#             snn.Leaky(beta=beta, spike_grad=spike_grad, init_hidden=True, output=True)\n",
    "#         )\n",
    "\n",
    "#     def forward(self, x):\n",
    "#         probs = self.one_way(x)\n",
    "#         return probs\n",
    "\n",
    "net = nn.Sequential(\n",
    "    nn.Linear(2, 2),\n",
    "    snn.Leaky(beta=beta, spike_grad=spike_grad, init_hidden=True, output=True)\n",
    ")\n",
    "\n",
    "device = \"cuda\" if torch.cuda.is_available() else \"cpu\"\n",
    "print(f\"Using {device} device\")\n",
    "\n",
    "# net = SNNNetwork()\n",
    "net = net.to(device)"
   ]
  },
  {
   "cell_type": "code",
   "execution_count": 9,
   "metadata": {},
   "outputs": [],
   "source": [
    "from snntorch import utils\n",
    "\n",
    "def forward_pass(net, data, num_steps):\n",
    "  spk_rec = []\n",
    "  utils.reset(net)\n",
    "\n",
    "  for step in range(num_steps):\n",
    "      spk_out, mem_out = net(data)\n",
    "      spk_rec.append(spk_out)\n",
    "\n",
    "  return torch.stack(spk_rec)"
   ]
  },
  {
   "cell_type": "code",
   "execution_count": 10,
   "metadata": {},
   "outputs": [],
   "source": [
    "import snntorch.functional as SF\n",
    "\n",
    "optimizer = torch.optim.Adam(net.parameters(), lr=2e-3, betas=(0.9, 0.999))\n",
    "loss_fn = SF.mse_count_loss(correct_rate=0.8, incorrect_rate=0.2)"
   ]
  },
  {
   "cell_type": "code",
   "execution_count": 7,
   "metadata": {},
   "outputs": [
    {
     "name": "stdout",
     "output_type": "stream",
     "text": [
      "Epoch 0, Iteration 0 \n",
      "Train Loss: 7.57\n",
      "Accuracy: 65.62%\n",
      "\n",
      "Epoch 1, Iteration 0 \n",
      "Train Loss: 7.57\n",
      "Accuracy: 65.62%\n",
      "\n",
      "Epoch 2, Iteration 0 \n",
      "Train Loss: 7.54\n",
      "Accuracy: 65.62%\n",
      "\n",
      "Epoch 3, Iteration 0 \n",
      "Train Loss: 7.36\n",
      "Accuracy: 65.62%\n",
      "\n",
      "Epoch 4, Iteration 0 \n",
      "Train Loss: 7.36\n",
      "Accuracy: 65.62%\n",
      "\n",
      "Epoch 5, Iteration 0 \n",
      "Train Loss: 7.36\n",
      "Accuracy: 65.62%\n",
      "\n",
      "Epoch 6, Iteration 0 \n",
      "Train Loss: 7.36\n",
      "Accuracy: 65.62%\n",
      "\n",
      "Epoch 7, Iteration 0 \n",
      "Train Loss: 7.36\n",
      "Accuracy: 65.62%\n",
      "\n",
      "Epoch 8, Iteration 0 \n",
      "Train Loss: 7.36\n",
      "Accuracy: 65.62%\n",
      "\n",
      "Epoch 9, Iteration 0 \n",
      "Train Loss: 7.36\n",
      "Accuracy: 65.62%\n",
      "\n"
     ]
    }
   ],
   "source": [
    "num_epochs = 10 # run for 1 epoch - each data sample is seen only once\n",
    "num_steps = 25  # run for 25 time steps\n",
    "\n",
    "loss_hist = [] # record loss over iterations\n",
    "acc_hist = [] # record accuracy over iterations\n",
    "\n",
    "# training loop\n",
    "for epoch in range(num_epochs):\n",
    "    for i, (data, targets) in enumerate(iter(train_loader)):\n",
    "        data = data.to(device)\n",
    "        targets = targets.squeeze().to(device)\n",
    "\n",
    "        net.train()\n",
    "        spk_rec = forward_pass(net, data, num_steps) # forward-pass\n",
    "        loss_val = loss_fn(spk_rec, targets) # loss calculation\n",
    "        optimizer.zero_grad() # null gradients\n",
    "        loss_val.backward() # calculate gradients\n",
    "        optimizer.step() # update weights\n",
    "        loss_hist.append(loss_val.item()) # store loss\n",
    "\n",
    "        # print every 25 iterations\n",
    "        if i % 25 == 0:\n",
    "          print(f\"Epoch {epoch}, Iteration {i} \\nTrain Loss: {loss_val.item():.2f}\")\n",
    "\n",
    "          # check accuracy on a single batch\n",
    "          acc = SF.accuracy_rate(spk_rec, targets)\n",
    "          acc_hist.append(acc)\n",
    "          print(f\"Accuracy: {acc * 100:.2f}%\\n\")\n",
    "        break"
   ]
  },
  {
   "cell_type": "code",
   "execution_count": null,
   "metadata": {},
   "outputs": [],
   "source": []
  }
 ],
 "metadata": {
  "kernelspec": {
   "display_name": "lic",
   "language": "python",
   "name": "python3"
  },
  "language_info": {
   "codemirror_mode": {
    "name": "ipython",
    "version": 3
   },
   "file_extension": ".py",
   "mimetype": "text/x-python",
   "name": "python",
   "nbconvert_exporter": "python",
   "pygments_lexer": "ipython3",
   "version": "3.10.5"
  },
  "orig_nbformat": 4
 },
 "nbformat": 4,
 "nbformat_minor": 2
}
